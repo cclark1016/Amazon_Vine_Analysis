{
  "nbformat": 4,
  "nbformat_minor": 0,
  "metadata": {
    "colab": {
      "name": "Vine_Review_Analysis.ipynb",
      "provenance": [],
      "collapsed_sections": []
    },
    "kernelspec": {
      "name": "python3",
      "display_name": "Python 3"
    }
  },
  "cells": [
    {
      "cell_type": "code",
      "metadata": {
        "id": "jUIqqp_nZvZv",
        "outputId": "e59d40c5-b569-4ea5-b038-78e77a3918e2",
        "colab": {
          "base_uri": "https://localhost:8080/"
        }
      },
      "source": [
        "import os\n",
        "# Find the latest version of spark 2.0  from http://www-us.apache.org/dist/spark/ and enter as the spark version\n",
        "# For example:\n",
        "# spark_version = 'spark-3.0.0'\n",
        "spark_version = 'spark-3.0.1'\n",
        "os.environ['SPARK_VERSION']=spark_version\n",
        "\n",
        "# Install Spark and Java\n",
        "!apt-get update\n",
        "!apt-get install openjdk-11-jdk-headless -qq > /dev/null\n",
        "!wget -q http://www-us.apache.org/dist/spark/$SPARK_VERSION/$SPARK_VERSION-bin-hadoop2.7.tgz\n",
        "!tar xf $SPARK_VERSION-bin-hadoop2.7.tgz\n",
        "!pip install -q findspark\n",
        "\n",
        "# Set Environment Variables\n",
        "import os\n",
        "os.environ[\"JAVA_HOME\"] = \"/usr/lib/jvm/java-11-openjdk-amd64\"\n",
        "os.environ[\"SPARK_HOME\"] = f\"/content/{spark_version}-bin-hadoop2.7\"\n",
        "\n",
        "# Start a SparkSession\n",
        "import findspark\n",
        "findspark.init()"
      ],
      "execution_count": 1,
      "outputs": [
        {
          "output_type": "stream",
          "text": [
            "Get:1 https://cloud.r-project.org/bin/linux/ubuntu bionic-cran40/ InRelease [3,626 B]\n",
            "Ign:2 https://developer.download.nvidia.com/compute/cuda/repos/ubuntu1804/x86_64  InRelease\n",
            "Get:3 https://cloud.r-project.org/bin/linux/ubuntu bionic-cran40/ Packages [40.1 kB]\n",
            "Ign:4 https://developer.download.nvidia.com/compute/machine-learning/repos/ubuntu1804/x86_64  InRelease\n",
            "Get:5 https://developer.download.nvidia.com/compute/cuda/repos/ubuntu1804/x86_64  Release [697 B]\n",
            "Hit:6 https://developer.download.nvidia.com/compute/machine-learning/repos/ubuntu1804/x86_64  Release\n",
            "Get:7 https://developer.download.nvidia.com/compute/cuda/repos/ubuntu1804/x86_64  Release.gpg [836 B]\n",
            "Get:8 http://security.ubuntu.com/ubuntu bionic-security InRelease [88.7 kB]\n",
            "Get:9 http://ppa.launchpad.net/c2d4u.team/c2d4u4.0+/ubuntu bionic InRelease [15.9 kB]\n",
            "Hit:11 http://archive.ubuntu.com/ubuntu bionic InRelease\n",
            "Get:12 http://archive.ubuntu.com/ubuntu bionic-updates InRelease [88.7 kB]\n",
            "Ign:13 https://developer.download.nvidia.com/compute/cuda/repos/ubuntu1804/x86_64  Packages\n",
            "Get:13 https://developer.download.nvidia.com/compute/cuda/repos/ubuntu1804/x86_64  Packages [405 kB]\n",
            "Hit:14 http://ppa.launchpad.net/graphics-drivers/ppa/ubuntu bionic InRelease\n",
            "Get:15 http://security.ubuntu.com/ubuntu bionic-security/main amd64 Packages [1,748 kB]\n",
            "Get:16 http://archive.ubuntu.com/ubuntu bionic-backports InRelease [74.6 kB]\n",
            "Get:17 http://ppa.launchpad.net/c2d4u.team/c2d4u4.0+/ubuntu bionic/main Sources [1,687 kB]\n",
            "Get:18 http://archive.ubuntu.com/ubuntu bionic-updates/universe amd64 Packages [2,118 kB]\n",
            "Get:19 http://security.ubuntu.com/ubuntu bionic-security/universe amd64 Packages [1,353 kB]\n",
            "Get:20 http://archive.ubuntu.com/ubuntu bionic-updates/main amd64 Packages [2,165 kB]\n",
            "Get:21 http://ppa.launchpad.net/c2d4u.team/c2d4u4.0+/ubuntu bionic/main amd64 Packages [863 kB]\n",
            "Fetched 10.7 MB in 5s (1,950 kB/s)\n",
            "Reading package lists... Done\n"
          ],
          "name": "stdout"
        }
      ]
    },
    {
      "cell_type": "code",
      "metadata": {
        "id": "TDbMyGyQZ3Nz",
        "outputId": "6cc6e902-e927-4575-bc2b-0dda77e565eb",
        "colab": {
          "base_uri": "https://localhost:8080/"
        }
      },
      "source": [
        "# Download the Postgres driver that will allow Spark to interact with Postgres.\n",
        "!wget https://jdbc.postgresql.org/download/postgresql-42.2.16.jar"
      ],
      "execution_count": 2,
      "outputs": [
        {
          "output_type": "stream",
          "text": [
            "--2020-11-01 20:03:14--  https://jdbc.postgresql.org/download/postgresql-42.2.16.jar\n",
            "Resolving jdbc.postgresql.org (jdbc.postgresql.org)... 72.32.157.228, 2001:4800:3e1:1::228\n",
            "Connecting to jdbc.postgresql.org (jdbc.postgresql.org)|72.32.157.228|:443... connected.\n",
            "HTTP request sent, awaiting response... 200 OK\n",
            "Length: 1002883 (979K) [application/java-archive]\n",
            "Saving to: ‘postgresql-42.2.16.jar’\n",
            "\n",
            "postgresql-42.2.16. 100%[===================>] 979.38K  1.01MB/s    in 0.9s    \n",
            "\n",
            "2020-11-01 20:03:15 (1.01 MB/s) - ‘postgresql-42.2.16.jar’ saved [1002883/1002883]\n",
            "\n"
          ],
          "name": "stdout"
        }
      ]
    },
    {
      "cell_type": "code",
      "metadata": {
        "id": "9vrHC0S7Z5hb"
      },
      "source": [
        "from pyspark.sql import SparkSession\n",
        "spark = SparkSession.builder.appName(\"BigData-Challenge\").config(\"spark.driver.extraClassPath\",\"/content/postgresql-42.2.16.jar\").getOrCreate()"
      ],
      "execution_count": 3,
      "outputs": []
    },
    {
      "cell_type": "code",
      "metadata": {
        "id": "WRr6Js4DZ9y4",
        "outputId": "e91305ec-3199-4026-aaea-ab67fb1417a9",
        "colab": {
          "base_uri": "https://localhost:8080/"
        }
      },
      "source": [
        "from pyspark import SparkFiles\n",
        "url = \"https://s3.amazonaws.com/amazon-reviews-pds/tsv/amazon_reviews_us_Video_DVD_v1_00.tsv.gz\"\n",
        "spark.sparkContext.addFile(url)\n",
        "df = spark.read.option(\"encoding\", \"UTF-8\").csv(SparkFiles.get(\"\"), sep=\"\\t\", header=True, inferSchema=True)\n",
        "df.show()"
      ],
      "execution_count": 4,
      "outputs": [
        {
          "output_type": "stream",
          "text": [
            "+-----------+-----------+--------------+----------+--------------+--------------------+----------------+-----------+-------------+-----------+----+-----------------+--------------------+--------------------+-----------+\n",
            "|marketplace|customer_id|     review_id|product_id|product_parent|       product_title|product_category|star_rating|helpful_votes|total_votes|vine|verified_purchase|     review_headline|         review_body|review_date|\n",
            "+-----------+-----------+--------------+----------+--------------+--------------------+----------------+-----------+-------------+-----------+----+-----------------+--------------------+--------------------+-----------+\n",
            "|         US|   27288431| R33UPQQUZQEM8|B005T4ND06|     400024643|Yoga for Movement...|       Video DVD|          5|            3|          3|   N|                Y|This was a gift f...|This was a gift f...| 2015-08-31|\n",
            "|         US|   13722556|R3IKTNQQPD9662|B004EPZ070|     685335564|  Something Borrowed|       Video DVD|          5|            0|          0|   N|                Y|          Five Stars| Teats my heart out.| 2015-08-31|\n",
            "|         US|   20381037|R3U27V5QMCP27T|B005S9EKCW|     922008804|Les Miserables (2...|       Video DVD|          5|            1|          1|   N|                Y|        Great movie!|        Great movie.| 2015-08-31|\n",
            "|         US|   24852644|R2TOH2QKNK4IOC|B00FC1ZCB4|     326560548|Alien Anthology a...|       Video DVD|          5|            0|          1|   N|                Y|             Amazing|My husband was so...| 2015-08-31|\n",
            "|         US|   15556113|R2XQG5NJ59UFMY|B002ZG98Z0|     637495038|  Sex and the City 2|       Video DVD|          5|            0|          0|   N|                Y|          Five Stars|   Love this series.| 2015-08-31|\n",
            "|         US|    6132474|R1N1KHBRR4ZTX3|B00X8RONBO|     896602391|When Calls The He...|       Video DVD|          5|            0|          0|   N|                Y|          Five Stars|            love it!| 2015-08-31|\n",
            "|         US|   48049524|R3OM9S0TCBP38K|B000CEXFZG|     115883890|Teen Titans - The...|       Video DVD|          5|            0|          0|   N|                Y|               Great|Better than the c...| 2015-08-31|\n",
            "|         US|    3282516|R1W4S949ZRCTBW|B00ID8H8EW|     977932459|      Generation War|       Video DVD|          5|            0|          0|   N|                Y|          Five Stars|I really emjoyed ...| 2015-08-31|\n",
            "|         US|   51771179|R18JL1NNQAZFV2|B000TGJ8IU|     840084782|Troy  (Director's...|       Video DVD|          5|            0|          0|   N|                Y|          Five Stars|Awesome movie, we...| 2015-08-31|\n",
            "|         US|   31816501|R1LP6PR06OPYUX|B00DPMPTDS|     262144920|Faith Aka the Gre...|       Video DVD|          4|            0|          0|   N|                Y|a beautiful fanta...|...a beautiful fa...| 2015-08-31|\n",
            "|         US|   16164990| RZKBT035JA0UQ|B00X797LUS|     883589001|   Revenge: Season 4|       Video DVD|          5|            1|          2|   N|                Y|  It's a hit with me|I don't usually w...| 2015-08-31|\n",
            "|         US|   33386989|R253N5W74SM7N3|B00C6MXB42|     734735137|YOUNG INDIANA JON...|       Video DVD|          4|            1|          1|   N|                Y|great stuff. I th...|great stuff.  I t...| 2015-08-31|\n",
            "|         US|   45486371|R2D5IFTFPHD3RN|B000EZ9084|     821764517|     Survival Island|       Video DVD|          4|            1|          1|   N|                Y|          Four Stars|           very good| 2015-08-31|\n",
            "|         US|   14006420|R1CECK3H1URK1G|B000CEXFZG|     115883890|Teen Titans - The...|       Video DVD|          5|            0|          0|   N|                Y|          Five Stars|Kids love the DVD...| 2015-08-31|\n",
            "|         US|   23411619|R11MHQRE45204T|B00KXEM6XM|     651533797|     Fargo: Season 1|       Video DVD|          5|            0|          0|   N|                Y|A wonderful cover...|Great news Fargo ...| 2015-08-31|\n",
            "|         US|    3202332| RSX9F068J0GXJ|B0036K9CM8|     231498541|Disney Parks: The...|       Video DVD|          5|            0|          0|   N|                Y|We love Disney an...|We love Disney an...| 2015-08-31|\n",
            "|         US|   32012808|R1TUMFHZBBOWKL|B00G3HOJZ6|     847624020|Young Detective D...|       Video DVD|          5|            0|          0|   N|                Y|Excellent Movie f...|This is a surpris...| 2015-08-31|\n",
            "|         US|   36507765| R8IZ1G1TWGK0E|B00V5E7YR2|     478422254|The Divergent Ser...|       Video DVD|          5|            0|          0|   N|                Y|          Five Stars|          Good movie| 2015-08-31|\n",
            "|         US|   13696097|R1CBN0585B7BI4|B005BUA1JY|     700104332|Barney Miller: Th...|       Video DVD|          5|            0|          1|   N|                Y|          Five Stars|This show is a cl...| 2015-08-31|\n",
            "|         US|    2190805|R2PJOAZ9I3D8O8|B00YCY46VO|     710263340|Inside Out (Blu-r...|       Video DVD|          5|            2|          2|   N|                N|An Instant Master...|Inside Out revolv...| 2015-08-31|\n",
            "+-----------+-----------+--------------+----------+--------------+--------------------+----------------+-----------+-------------+-----------+----+-----------------+--------------------+--------------------+-----------+\n",
            "only showing top 20 rows\n",
            "\n"
          ],
          "name": "stdout"
        }
      ]
    },
    {
      "cell_type": "code",
      "metadata": {
        "id": "vQImx_flZ-Yw",
        "outputId": "8b80c26a-c470-4d75-e120-bcdc24f7d39c",
        "colab": {
          "base_uri": "https://localhost:8080/"
        }
      },
      "source": [
        "from pyspark.sql.functions import to_date\n",
        "# Read in the Review dataset as a DataFrame\n",
        "dvd_df = df\n",
        "\n",
        "dvd_df.show()\n"
      ],
      "execution_count": 10,
      "outputs": [
        {
          "output_type": "stream",
          "text": [
            "+-----------+-----------+--------------+----------+--------------+--------------------+----------------+-----------+-------------+-----------+----+-----------------+--------------------+--------------------+-----------+\n",
            "|marketplace|customer_id|     review_id|product_id|product_parent|       product_title|product_category|star_rating|helpful_votes|total_votes|vine|verified_purchase|     review_headline|         review_body|review_date|\n",
            "+-----------+-----------+--------------+----------+--------------+--------------------+----------------+-----------+-------------+-----------+----+-----------------+--------------------+--------------------+-----------+\n",
            "|         US|   27288431| R33UPQQUZQEM8|B005T4ND06|     400024643|Yoga for Movement...|       Video DVD|          5|            3|          3|   N|                Y|This was a gift f...|This was a gift f...| 2015-08-31|\n",
            "|         US|   13722556|R3IKTNQQPD9662|B004EPZ070|     685335564|  Something Borrowed|       Video DVD|          5|            0|          0|   N|                Y|          Five Stars| Teats my heart out.| 2015-08-31|\n",
            "|         US|   20381037|R3U27V5QMCP27T|B005S9EKCW|     922008804|Les Miserables (2...|       Video DVD|          5|            1|          1|   N|                Y|        Great movie!|        Great movie.| 2015-08-31|\n",
            "|         US|   24852644|R2TOH2QKNK4IOC|B00FC1ZCB4|     326560548|Alien Anthology a...|       Video DVD|          5|            0|          1|   N|                Y|             Amazing|My husband was so...| 2015-08-31|\n",
            "|         US|   15556113|R2XQG5NJ59UFMY|B002ZG98Z0|     637495038|  Sex and the City 2|       Video DVD|          5|            0|          0|   N|                Y|          Five Stars|   Love this series.| 2015-08-31|\n",
            "|         US|    6132474|R1N1KHBRR4ZTX3|B00X8RONBO|     896602391|When Calls The He...|       Video DVD|          5|            0|          0|   N|                Y|          Five Stars|            love it!| 2015-08-31|\n",
            "|         US|   48049524|R3OM9S0TCBP38K|B000CEXFZG|     115883890|Teen Titans - The...|       Video DVD|          5|            0|          0|   N|                Y|               Great|Better than the c...| 2015-08-31|\n",
            "|         US|    3282516|R1W4S949ZRCTBW|B00ID8H8EW|     977932459|      Generation War|       Video DVD|          5|            0|          0|   N|                Y|          Five Stars|I really emjoyed ...| 2015-08-31|\n",
            "|         US|   51771179|R18JL1NNQAZFV2|B000TGJ8IU|     840084782|Troy  (Director's...|       Video DVD|          5|            0|          0|   N|                Y|          Five Stars|Awesome movie, we...| 2015-08-31|\n",
            "|         US|   31816501|R1LP6PR06OPYUX|B00DPMPTDS|     262144920|Faith Aka the Gre...|       Video DVD|          4|            0|          0|   N|                Y|a beautiful fanta...|...a beautiful fa...| 2015-08-31|\n",
            "|         US|   16164990| RZKBT035JA0UQ|B00X797LUS|     883589001|   Revenge: Season 4|       Video DVD|          5|            1|          2|   N|                Y|  It's a hit with me|I don't usually w...| 2015-08-31|\n",
            "|         US|   33386989|R253N5W74SM7N3|B00C6MXB42|     734735137|YOUNG INDIANA JON...|       Video DVD|          4|            1|          1|   N|                Y|great stuff. I th...|great stuff.  I t...| 2015-08-31|\n",
            "|         US|   45486371|R2D5IFTFPHD3RN|B000EZ9084|     821764517|     Survival Island|       Video DVD|          4|            1|          1|   N|                Y|          Four Stars|           very good| 2015-08-31|\n",
            "|         US|   14006420|R1CECK3H1URK1G|B000CEXFZG|     115883890|Teen Titans - The...|       Video DVD|          5|            0|          0|   N|                Y|          Five Stars|Kids love the DVD...| 2015-08-31|\n",
            "|         US|   23411619|R11MHQRE45204T|B00KXEM6XM|     651533797|     Fargo: Season 1|       Video DVD|          5|            0|          0|   N|                Y|A wonderful cover...|Great news Fargo ...| 2015-08-31|\n",
            "|         US|    3202332| RSX9F068J0GXJ|B0036K9CM8|     231498541|Disney Parks: The...|       Video DVD|          5|            0|          0|   N|                Y|We love Disney an...|We love Disney an...| 2015-08-31|\n",
            "|         US|   32012808|R1TUMFHZBBOWKL|B00G3HOJZ6|     847624020|Young Detective D...|       Video DVD|          5|            0|          0|   N|                Y|Excellent Movie f...|This is a surpris...| 2015-08-31|\n",
            "|         US|   36507765| R8IZ1G1TWGK0E|B00V5E7YR2|     478422254|The Divergent Ser...|       Video DVD|          5|            0|          0|   N|                Y|          Five Stars|          Good movie| 2015-08-31|\n",
            "|         US|   13696097|R1CBN0585B7BI4|B005BUA1JY|     700104332|Barney Miller: Th...|       Video DVD|          5|            0|          1|   N|                Y|          Five Stars|This show is a cl...| 2015-08-31|\n",
            "|         US|    2190805|R2PJOAZ9I3D8O8|B00YCY46VO|     710263340|Inside Out (Blu-r...|       Video DVD|          5|            2|          2|   N|                N|An Instant Master...|Inside Out revolv...| 2015-08-31|\n",
            "+-----------+-----------+--------------+----------+--------------+--------------------+----------------+-----------+-------------+-----------+----+-----------------+--------------------+--------------------+-----------+\n",
            "only showing top 20 rows\n",
            "\n"
          ],
          "name": "stdout"
        }
      ]
    },
    {
      "cell_type": "code",
      "metadata": {
        "id": "xYduOqNqcjzb",
        "outputId": "e6c7a335-4853-45ca-cb5c-35b336c78bc7",
        "colab": {
          "base_uri": "https://localhost:8080/"
        }
      },
      "source": [
        "vine_df = dvd_df.select('review_id', 'star_rating', 'helpful_votes', 'total_votes', 'vine', 'verified_purchase')\n",
        "vine_df.show()"
      ],
      "execution_count": 11,
      "outputs": [
        {
          "output_type": "stream",
          "text": [
            "+--------------+-----------+-------------+-----------+----+-----------------+\n",
            "|     review_id|star_rating|helpful_votes|total_votes|vine|verified_purchase|\n",
            "+--------------+-----------+-------------+-----------+----+-----------------+\n",
            "| R33UPQQUZQEM8|          5|            3|          3|   N|                Y|\n",
            "|R3IKTNQQPD9662|          5|            0|          0|   N|                Y|\n",
            "|R3U27V5QMCP27T|          5|            1|          1|   N|                Y|\n",
            "|R2TOH2QKNK4IOC|          5|            0|          1|   N|                Y|\n",
            "|R2XQG5NJ59UFMY|          5|            0|          0|   N|                Y|\n",
            "|R1N1KHBRR4ZTX3|          5|            0|          0|   N|                Y|\n",
            "|R3OM9S0TCBP38K|          5|            0|          0|   N|                Y|\n",
            "|R1W4S949ZRCTBW|          5|            0|          0|   N|                Y|\n",
            "|R18JL1NNQAZFV2|          5|            0|          0|   N|                Y|\n",
            "|R1LP6PR06OPYUX|          4|            0|          0|   N|                Y|\n",
            "| RZKBT035JA0UQ|          5|            1|          2|   N|                Y|\n",
            "|R253N5W74SM7N3|          4|            1|          1|   N|                Y|\n",
            "|R2D5IFTFPHD3RN|          4|            1|          1|   N|                Y|\n",
            "|R1CECK3H1URK1G|          5|            0|          0|   N|                Y|\n",
            "|R11MHQRE45204T|          5|            0|          0|   N|                Y|\n",
            "| RSX9F068J0GXJ|          5|            0|          0|   N|                Y|\n",
            "|R1TUMFHZBBOWKL|          5|            0|          0|   N|                Y|\n",
            "| R8IZ1G1TWGK0E|          5|            0|          0|   N|                Y|\n",
            "|R1CBN0585B7BI4|          5|            0|          1|   N|                Y|\n",
            "|R2PJOAZ9I3D8O8|          5|            2|          2|   N|                N|\n",
            "+--------------+-----------+-------------+-----------+----+-----------------+\n",
            "only showing top 20 rows\n",
            "\n"
          ],
          "name": "stdout"
        }
      ]
    },
    {
      "cell_type": "code",
      "metadata": {
        "id": "skZR1mciaApS",
        "outputId": "b9278d1f-6e2f-4fed-e4d7-7ee23bea6fa9",
        "colab": {
          "base_uri": "https://localhost:8080/"
        }
      },
      "source": [
        "# retrieve all the rows where the total_votes count is equal to or greater than 20\n",
        "va_df1 = vine_df.filter(\"total_votes>20\")\n",
        "va_df1.show()"
      ],
      "execution_count": 21,
      "outputs": [
        {
          "output_type": "stream",
          "text": [
            "+--------------+-----------+-------------+-----------+----+-----------------+\n",
            "|     review_id|star_rating|helpful_votes|total_votes|vine|verified_purchase|\n",
            "+--------------+-----------+-------------+-----------+----+-----------------+\n",
            "|R31EUR60FV3BU5|          4|           32|         39|   N|                N|\n",
            "|R12Q1NO1HI9PP4|          1|            4|         86|   N|                N|\n",
            "|R3MDX24QDAT0OW|          4|           35|         37|   N|                N|\n",
            "|R2YVFZB4ESDT7D|          5|          139|        141|   N|                Y|\n",
            "| R6TNONSNFM82I|          1|            0|         28|   N|                Y|\n",
            "|R2R8EWH1JUZCSI|          5|           16|         21|   N|                N|\n",
            "| RUNB838XKMB59|          1|            8|         23|   N|                N|\n",
            "|R3I8GORXGEJL3R|          4|           95|        103|   N|                Y|\n",
            "|R2WFUSIPJ3X0FR|          1|            9|         53|   N|                N|\n",
            "| RONWXF0J85CRR|          5|           42|         50|   N|                N|\n",
            "|R15OUJIUGMTNW7|          1|            1|         33|   N|                N|\n",
            "| RGWTSZJT5WJ35|          1|            9|         50|   N|                N|\n",
            "|R3O7T74HRIXBE5|          5|           53|         55|   N|                Y|\n",
            "| RSU37FK0W4DPE|          4|           26|         28|   N|                N|\n",
            "|R22H100N6EUD0Y|          5|           30|         32|   N|                Y|\n",
            "| R4VC9LDQGIE5K|          5|           26|         37|   N|                N|\n",
            "| RWMH3PU2EECVA|          5|           35|         38|   N|                Y|\n",
            "|R2XTQWXL65VPOZ|          4|           22|         24|   N|                N|\n",
            "| RGIM9S035SVIA|          4|           38|         44|   N|                N|\n",
            "|R1THITSK5YF2H3|          1|            0|         33|   N|                Y|\n",
            "+--------------+-----------+-------------+-----------+----+-----------------+\n",
            "only showing top 20 rows\n",
            "\n"
          ],
          "name": "stdout"
        }
      ]
    },
    {
      "cell_type": "code",
      "metadata": {
        "id": "KKOvga2KcN1y",
        "outputId": "a2efa787-9b36-4b54-98f0-c846b3a3c76b",
        "colab": {
          "base_uri": "https://localhost:8080/"
        }
      },
      "source": [
        "#retrieve all the rows where the number of helpful_votes divided by total_votes is equal to or greater than 50%.\n",
        "va_df2 = va_df1.filter(\"(helpful_votes/total_votes)>.5\")\n",
        "va_df2.show()"
      ],
      "execution_count": 13,
      "outputs": [
        {
          "output_type": "stream",
          "text": [
            "+--------------+-----------+-------------+-----------+----+-----------------+\n",
            "|     review_id|star_rating|helpful_votes|total_votes|vine|verified_purchase|\n",
            "+--------------+-----------+-------------+-----------+----+-----------------+\n",
            "|R31EUR60FV3BU5|          4|           32|         39|   N|                N|\n",
            "|R3MDX24QDAT0OW|          4|           35|         37|   N|                N|\n",
            "|R2YVFZB4ESDT7D|          5|          139|        141|   N|                Y|\n",
            "|R2R8EWH1JUZCSI|          5|           16|         21|   N|                N|\n",
            "|R3I8GORXGEJL3R|          4|           95|        103|   N|                Y|\n",
            "| RONWXF0J85CRR|          5|           42|         50|   N|                N|\n",
            "|R3O7T74HRIXBE5|          5|           53|         55|   N|                Y|\n",
            "| RSU37FK0W4DPE|          4|           26|         28|   N|                N|\n",
            "|R22H100N6EUD0Y|          5|           30|         32|   N|                Y|\n",
            "| R4VC9LDQGIE5K|          5|           26|         37|   N|                N|\n",
            "| RWMH3PU2EECVA|          5|           35|         38|   N|                Y|\n",
            "|R2XTQWXL65VPOZ|          4|           22|         24|   N|                N|\n",
            "| RGIM9S035SVIA|          4|           38|         44|   N|                N|\n",
            "|R2FK3TE1JD2UXM|          5|           40|         44|   N|                N|\n",
            "|R22X6BZQKZA30V|          1|           29|         34|   N|                Y|\n",
            "| RS3V339OCGT2D|          5|           84|         97|   N|                N|\n",
            "| RCZ5IXAQ4J4NQ|          5|           22|         36|   N|                N|\n",
            "| ROS0GMA6IUSCP|          5|           34|         36|   N|                N|\n",
            "| RX9NDN8O3M65O|          5|           24|         27|   N|                Y|\n",
            "| RDF3IYVIK2P1C|          4|           29|         32|   N|                N|\n",
            "+--------------+-----------+-------------+-----------+----+-----------------+\n",
            "only showing top 20 rows\n",
            "\n"
          ],
          "name": "stdout"
        }
      ]
    },
    {
      "cell_type": "code",
      "metadata": {
        "id": "1r6d-y0lcPKU",
        "outputId": "1fa648ad-5677-44bc-c2b1-e6a9026daee4",
        "colab": {
          "base_uri": "https://localhost:8080/"
        }
      },
      "source": [
        "#Retrieve all rows where review was part of Vine Program\n",
        "\n",
        "va_df_Y = va_df2.filter('vine== \\'Y\\'')\n",
        "va_df_Y.count()"
      ],
      "execution_count": 31,
      "outputs": [
        {
          "output_type": "execute_result",
          "data": {
            "text/plain": [
              "43"
            ]
          },
          "metadata": {
            "tags": []
          },
          "execution_count": 31
        }
      ]
    },
    {
      "cell_type": "code",
      "metadata": {
        "id": "z8FIJTB6cQi_",
        "outputId": "3e85549b-f6b8-455f-85cb-332744284b7e",
        "colab": {
          "base_uri": "https://localhost:8080/"
        }
      },
      "source": [
        "#Retrieve all rows where review was not part of Vine Program\n",
        "va_df_N = va_df2.filter('vine== \\'N\\'')\n",
        "va_df_N.count()"
      ],
      "execution_count": 32,
      "outputs": [
        {
          "output_type": "execute_result",
          "data": {
            "text/plain": [
              "140200"
            ]
          },
          "metadata": {
            "tags": []
          },
          "execution_count": 32
        }
      ]
    },
    {
      "cell_type": "code",
      "metadata": {
        "id": "WGK03IxedRTN",
        "outputId": "e7cd1888-6c95-4341-ba48-6e799d8a4c0b",
        "colab": {
          "base_uri": "https://localhost:8080/"
        }
      },
      "source": [
        "##Total number Reviews\n",
        "\n",
        "total_reviews = va_df2.count()\n",
        "total_reviews"
      ],
      "execution_count": 17,
      "outputs": [
        {
          "output_type": "execute_result",
          "data": {
            "text/plain": [
              "140243"
            ]
          },
          "metadata": {
            "tags": []
          },
          "execution_count": 17
        }
      ]
    },
    {
      "cell_type": "code",
      "metadata": {
        "id": "nzcYHdWedSxI",
        "outputId": "42c48fe1-6281-487a-b1f5-60638fcac386",
        "colab": {
          "base_uri": "https://localhost:8080/"
        }
      },
      "source": [
        "## Total 5 Star Reviews\n",
        "\n",
        "five_star_df = va_df2.filter('star_rating==5')\n",
        "five_star_df.count()"
      ],
      "execution_count": 18,
      "outputs": [
        {
          "output_type": "execute_result",
          "data": {
            "text/plain": [
              "73047"
            ]
          },
          "metadata": {
            "tags": []
          },
          "execution_count": 18
        }
      ]
    },
    {
      "cell_type": "code",
      "metadata": {
        "id": "zyTRIegJdUAB"
      },
      "source": [
        "#5 Star Y count\n",
        "five_star_Y_count = five_star_df.filter('vine== \\'Y\\'').count()"
      ],
      "execution_count": 25,
      "outputs": []
    },
    {
      "cell_type": "code",
      "metadata": {
        "id": "Q0HOjAhBdrPg"
      },
      "source": [
        "#5 Star N count\n",
        "five_star_N_count = five_star_df.filter('vine== \\'N\\'').count()"
      ],
      "execution_count": 24,
      "outputs": []
    },
    {
      "cell_type": "code",
      "metadata": {
        "id": "g744mbO-fkpH",
        "outputId": "ea7690d7-810f-4f4c-a667-9719b7cdd663",
        "colab": {
          "base_uri": "https://localhost:8080/"
        }
      },
      "source": [
        "va_df_Y.count()"
      ],
      "execution_count": 33,
      "outputs": [
        {
          "output_type": "execute_result",
          "data": {
            "text/plain": [
              "43"
            ]
          },
          "metadata": {
            "tags": []
          },
          "execution_count": 33
        }
      ]
    },
    {
      "cell_type": "code",
      "metadata": {
        "id": "PUILxBgZdoWl",
        "outputId": "aaab1215-4d98-4d02-ad66-40c46e38af43",
        "colab": {
          "base_uri": "https://localhost:8080/"
        }
      },
      "source": [
        "# Percent 5 star reviews- paid vs unpaid\n",
        "percent_paid = (five_star_Y_count/va_df_Y.count())*100\n",
        "percent_unpaid = (five_star_N_count/va_df_N.count())*100\n",
        "\n",
        "print(f\"The percent of 5 star reviews that are paid for is {percent_paid}% while the percent of unpaid 5 star reviews is {percent_unpaid}%\")"
      ],
      "execution_count": 34,
      "outputs": [
        {
          "output_type": "stream",
          "text": [
            "The percent of 5 star reviews that are paid for is 18.6046511627907% while the percent of unpaid 5 star reviews is 52.096291012838805%\n"
          ],
          "name": "stdout"
        }
      ]
    }
  ]
}